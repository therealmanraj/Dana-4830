{
 "cells": [
  {
   "cell_type": "markdown",
   "metadata": {},
   "source": [
    "Uploading the dataset"
   ]
  },
  {
   "cell_type": "code",
   "execution_count": 2,
   "metadata": {},
   "outputs": [],
   "source": [
    "# import boto3\n",
    "\n",
    "# # Initialize the S3 client (make sure your AWS credentials are configured)\n",
    "# s3 = boto3.client('s3')\n",
    "\n",
    "# # Define your bucket name and file paths\n",
    "# bucket_name = 'dana-minicapstone'\n",
    "# local_file = 'hvac_model_zones.csv'          # Path to your local file\n",
    "# s3_key = 'data/hvac_model_zones.csv'           # Path in S3 (folder structure)\n",
    "\n",
    "# # Upload the file to S3\n",
    "# s3.upload_file(local_file, bucket_name, s3_key)\n",
    "# print(\"hvac_model_zones uploaded successfully to S3!\")"
   ]
  },
  {
   "cell_type": "code",
   "execution_count": 3,
   "metadata": {},
   "outputs": [],
   "source": [
    "# import boto3\n",
    "\n",
    "# # Initialize the S3 client (make sure your AWS credentials are configured)\n",
    "# s3 = boto3.client('s3')\n",
    "\n",
    "# # Define your bucket name and file paths\n",
    "# bucket_name = 'dana-minicapstone'\n",
    "# local_file = 'occupancy_model_zones.csv'          # Path to your local file\n",
    "# s3_key = 'data/occupancy_model_zones.csv'           # Path in S3 (folder structure)\n",
    "\n",
    "# # Upload the file to S3\n",
    "# s3.upload_file(local_file, bucket_name, s3_key)\n",
    "# print(\"occupancy_model_zones uploaded successfully to S3!\")"
   ]
  },
  {
   "cell_type": "code",
   "execution_count": 4,
   "metadata": {},
   "outputs": [],
   "source": [
    "hvac_columns = [\n",
    "    \"Environment:Site Outdoor Air Relative Humidity[%]\",\n",
    "    \"Environment:Site Outdoor Air Dewpoint Temperature[C]\",\n",
    "    \"Electricity:HVAC[J]\",\n",
    "    \"Environment:Site Outdoor Air Wetbulb Temperature[C]\",\n",
    "    \"CLASSROOM_BOT ZN:Zone People Occupant Count[]\",\n",
    "    \"CONFROOM_BOT_1 ZN:Zone People Occupant Count[]\",\n",
    "    \"CONFROOM_BOT_2 ZN:Zone People Occupant Count[]\",\n",
    "    \"CONFROOM_MID_1 ZN:Zone People Occupant Count[]\",\n",
    "    \"CONFROOM_MID_2 ZN:Zone People Occupant Count[]\",\n",
    "    \"CONFROOM_TOP_1 ZN:Zone People Occupant Count[]\",\n",
    "    \"CONFROOM_TOP_2 ZN:Zone People Occupant Count[]\",\n",
    "    \"ENCLOSEDOFFICE_BOT_1 ZN:Zone People Occupant Count[]\",\n",
    "    \"ENCLOSEDOFFICE_BOT_2 ZN:Zone People Occupant Count[]\",\n",
    "    \"ENCLOSEDOFFICE_BOT_3 ZN:Zone People Occupant Count[]\",\n",
    "    \"ENCLOSEDOFFICE_BOT_4 ZN:Zone People Occupant Count[]\",\n",
    "    \"ENCLOSEDOFFICE_MID_1 ZN:Zone People Occupant Count[]\",\n",
    "    \"ENCLOSEDOFFICE_MID_2 ZN:Zone People Occupant Count[]\",\n",
    "    \"ENCLOSEDOFFICE_MID_3 ZN:Zone People Occupant Count[]\",\n",
    "    \"ENCLOSEDOFFICE_TOP_1 ZN:Zone People Occupant Count[]\",\n",
    "    \"ENCLOSEDOFFICE_TOP_2 ZN:Zone People Occupant Count[]\",\n",
    "    \"ENCLOSEDOFFICE_TOP_3 ZN:Zone People Occupant Count[]\",\n",
    "    \"OPENOFFICE_BOT_1 ZN:Zone People Occupant Count[]\",\n",
    "    \"OPENOFFICE_BOT_2 ZN:Zone People Occupant Count[]\",\n",
    "    \"OPENOFFICE_BOT_3 ZN:Zone People Occupant Count[]\",\n",
    "    \"OPENOFFICE_MID_1 ZN:Zone People Occupant Count[]\",\n",
    "    \"OPENOFFICE_MID_2 ZN:Zone People Occupant Count[]\",\n",
    "    \"OPENOFFICE_MID_3 ZN:Zone People Occupant Count[]\",\n",
    "    \"OPENOFFICE_MID_4 ZN:Zone People Occupant Count[]\",\n",
    "    \"OPENOFFICE_TOP_1 ZN:Zone People Occupant Count[]\",\n",
    "    \"OPENOFFICE_TOP_2 ZN:Zone People Occupant Count[]\",\n",
    "    \"OPENOFFICE_TOP_3 ZN:Zone People Occupant Count[]\",\n",
    "    \"OPENOFFICE_TOP_4 ZN:Zone People Occupant Count[]\",\n",
    "    \"Environment:Site Day Type Index[]\",\n",
    "    \"Environment:Site Outdoor Air Drybulb Temperature[C]\"\n",
    "]"
   ]
  },
  {
   "cell_type": "code",
   "execution_count": 5,
   "metadata": {},
   "outputs": [
    {
     "data": {
      "text/plain": [
       "34"
      ]
     },
     "execution_count": 5,
     "metadata": {},
     "output_type": "execute_result"
    }
   ],
   "source": [
    "len(hvac_columns)"
   ]
  },
  {
   "cell_type": "code",
   "execution_count": 9,
   "metadata": {},
   "outputs": [
    {
     "data": {
      "text/plain": [
       "(52561, 34)"
      ]
     },
     "execution_count": 9,
     "metadata": {},
     "output_type": "execute_result"
    }
   ],
   "source": [
    "import pandas as pd\n",
    "\n",
    "df = pd.read_csv('../hvac_model_zones.csv')\n",
    "\n",
    "df.shape"
   ]
  },
  {
   "cell_type": "code",
   "execution_count": 10,
   "metadata": {},
   "outputs": [
    {
     "data": {
      "text/plain": [
       "(52661, 68)"
      ]
     },
     "execution_count": 10,
     "metadata": {},
     "output_type": "execute_result"
    }
   ],
   "source": [
    "df_test = pd.read_csv('/Users/manraj/Downloads/hvac_model_zones.csv')\n",
    "\n",
    "df_test.shape"
   ]
  },
  {
   "cell_type": "code",
   "execution_count": null,
   "metadata": {},
   "outputs": [],
   "source": []
  }
 ],
 "metadata": {
  "kernelspec": {
   "display_name": ".venv",
   "language": "python",
   "name": "python3"
  },
  "language_info": {
   "codemirror_mode": {
    "name": "ipython",
    "version": 3
   },
   "file_extension": ".py",
   "mimetype": "text/x-python",
   "name": "python",
   "nbconvert_exporter": "python",
   "pygments_lexer": "ipython3",
   "version": "3.12.0"
  }
 },
 "nbformat": 4,
 "nbformat_minor": 2
}
